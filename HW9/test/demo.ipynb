{
 "cells": [
  {
   "cell_type": "code",
   "execution_count": 9,
   "id": "abd7536f",
   "metadata": {},
   "outputs": [
    {
     "name": "stdout",
     "output_type": "stream",
     "text": [
      "./output_example/k5/hw8test06.s ./input_example/hw8test06.my.s\n",
      "./output_example/k5/hw8test05.s ./input_example/hw8test05.my.s\n",
      "./output_example/k5/hw8test07.s ./input_example/hw8test07.my.s\n",
      "./output_example/k5/hw8test10.s ./input_example/hw8test10.my.s\n",
      "./output_example/k5/hw8test09.s ./input_example/hw8test09.my.s\n",
      "./output_example/k5/hw8test01.s ./input_example/hw8test01.my.s\n",
      "./output_example/k5/hw8test12.s ./input_example/hw8test12.my.s\n",
      "./output_example/k5/hw8test00.s ./input_example/hw8test00.my.s\n",
      "./output_example/k5/hw8test03.s ./input_example/hw8test03.my.s\n",
      "./output_example/k5/bubblesort.s ./input_example/bubblesort.my.s\n",
      "./output_example/k5/fibonacci.s ./input_example/fibonacci.my.s\n",
      "./output_example/k5/hw8test04.s ./input_example/hw8test04.my.s\n",
      "./output_example/k5/hw8test08.s ./input_example/hw8test08.my.s\n",
      "./output_example/k5/hw8test02.s ./input_example/hw8test02.my.s\n",
      "./output_example/k5/hw8test11.s ./input_example/hw8test11.my.s\n"
     ]
    }
   ],
   "source": [
    "import os\n",
    "\n",
    "my_dir = \"./input_example/\"\n",
    "example_dir = \"./output_example/k5/\"\n",
    "for dirpath, _, filenames in os.walk(example_dir):\n",
    "    asm_files = [f for f in filenames if f.endswith(\".s\")]\n",
    "\n",
    "    for asm_file in asm_files:\n",
    "        asm_my_file = asm_file.replace(\".s\", \".my.s\")\n",
    "        asm_path = os.path.join(example_dir, asm_file)\n",
    "        asm_my_path = os.path.join(my_dir, asm_my_file)\n",
    "\n",
    "        print(asm_path, asm_my_path)\n",
    "\n",
    "        # 第一次遍历：比较行数\n",
    "        with open(asm_path) as f1, open(asm_my_path) as f2:\n",
    "            lines1 = sum(1 for _ in f1)\n",
    "            lines2 = sum(1 for _ in f2)\n",
    "            assert lines1 == lines2, f\"行数不匹配: {lines1} vs {lines2}\"\n",
    "\n",
    "        # 第二次遍历：逐行严格比较\n",
    "        with open(asm_path) as f1, open(asm_my_path) as f2:\n",
    "            line_num = 0\n",
    "\n",
    "            for line1, line2 in zip(f1, f2):\n",
    "                line_num += 1\n",
    "\n",
    "                if line1 != line2:  # 严格比较，包括所有空白字符\n",
    "                    line1_part = line1.split(\"use:\")\n",
    "                    line2_part = line2.split(\"use:\")\n",
    "                    \n",
    "                    if line1_part[0] == line2_part[0]:\n",
    "                        line1_use = line1_part[1].strip().split(\" \")\n",
    "                        line2_use = line2_part[1].strip().split(\" \")\n",
    "                        if set(line1_use) == set(line2_use):\n",
    "                            continue\n",
    "                    \n",
    "                    print(f\"  第{line_num}行:\")\n",
    "                    print(f\"  {asm_path}   : {repr(line1)}\")\n",
    "                    print(f\"  {asm_my_path}: {repr(line2)}\")"
   ]
  }
 ],
 "metadata": {
  "kernelspec": {
   "display_name": "base",
   "language": "python",
   "name": "python3"
  },
  "language_info": {
   "codemirror_mode": {
    "name": "ipython",
    "version": 3
   },
   "file_extension": ".py",
   "mimetype": "text/x-python",
   "name": "python",
   "nbconvert_exporter": "python",
   "pygments_lexer": "ipython3",
   "version": "3.12.9"
  }
 },
 "nbformat": 4,
 "nbformat_minor": 5
}
