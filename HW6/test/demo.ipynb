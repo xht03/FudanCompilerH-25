{
 "cells": [
  {
   "cell_type": "code",
   "execution_count": 3,
   "id": "abd7536f",
   "metadata": {},
   "outputs": [
    {
     "name": "stdout",
     "output_type": "stream",
     "text": [
      "HW4/hw4test05.4.quad\n",
      "  第 15 行:\n",
      "    ./HW4/hw4test05.4.quad: '    MOVE_BINOP t100:INT <- (+, t104:INT, t103:INT); def: 100 use: 104 103 \\n'\n",
      "    ./HW4/hw4test05.4.quad-my: '    MOVE_BINOP t100:INT <- (+, t104:INT, t103:INT); def: 100 use: 103 104 \\n'\n",
      "HW4/hw4test10.4.quad\n",
      "  第 13 行:\n",
      "    ./HW4/hw4test10.4.quad: '    MOVE_BINOP t106:INT <- (+, t105:INT, t103:INT); def: 106 use: 105 103 \\n'\n",
      "    ./HW4/hw4test10.4.quad-my: '    MOVE_BINOP t106:INT <- (+, t105:INT, t103:INT); def: 106 use: 103 105 \\n'\n",
      "HW4/hw4test07.4.quad\n",
      "HW4/hw4test03.4.quad\n",
      "HW4/hw4test04.4.quad\n",
      "  第 12 行:\n",
      "    ./HW4/hw4test04.4.quad: '    MOVE_BINOP t100:INT <- (+, t104:INT, t103:INT); def: 100 use: 104 103 \\n'\n",
      "    ./HW4/hw4test04.4.quad-my: '    MOVE_BINOP t100:INT <- (+, t104:INT, t103:INT); def: 100 use: 103 104 \\n'\n",
      "HW4/hw4test09.4.quad\n",
      "HW4/hw4test01.4.quad\n",
      "HW4/hw4test06.4.quad\n",
      "HW4/hw4test02.4.quad\n",
      "HW4/hw4test08.4.quad\n",
      "Func/fibonacci.4.quad\n",
      "Func/bubblesort.4.quad\n",
      "HW3/hw3test04.4.quad\n",
      "HW3/hw3test06.4.quad\n",
      "HW3/hw3test01.4.quad\n",
      "HW5/test11.4.quad\n",
      "HW5/test1.4.quad\n",
      "  第 10 行:\n",
      "    ./HW5/test1.4.quad: '    CALL m[t103:PTR] (t100:PTR); def: use: 103 100 \\n'\n",
      "    ./HW5/test1.4.quad-my: '    CALL m[t103:PTR] (t100:PTR); def: use: 100 103 \\n'\n",
      "HW5/test2.4.quad\n",
      "HW5/test6.4.quad\n",
      "HW5/test9.4.quad\n",
      "HW5/test8.4.quad\n",
      "HW5/test7.4.quad\n",
      "HW5/test4.4.quad\n",
      "HW5/test3.4.quad\n",
      "HW5/test5.4.quad\n",
      "  第 10 行:\n",
      "    ./HW5/test5.4.quad: '    CALL m[t103:PTR] (t100:PTR); def: use: 103 100 \\n'\n",
      "    ./HW5/test5.4.quad-my: '    CALL m[t103:PTR] (t100:PTR); def: use: 100 103 \\n'\n",
      "HW5/test0.4.quad\n",
      "HW5/test10.4.quad\n"
     ]
    }
   ],
   "source": [
    "import os\n",
    "\n",
    "root_dir = \"./\"\n",
    "for dirpath, _, filenames in os.walk(root_dir):\n",
    "    quad_files = [f for f in filenames if f.endswith(\".4.quad\")]\n",
    "\n",
    "    for quad_file in quad_files:\n",
    "        quad_my_file = quad_file.replace(\".4.quad\", \".4.quad-my\")\n",
    "        quad_path = os.path.join(dirpath, quad_file)\n",
    "        quad_my_path = os.path.join(dirpath, quad_my_file)\n",
    "\n",
    "        print(os.path.relpath(quad_path, root_dir))\n",
    "\n",
    "        # 第一次遍历：比较行数\n",
    "        with open(quad_path) as f1, open(quad_my_path) as f2:\n",
    "            lines1 = sum(1 for _ in f1)\n",
    "            lines2 = sum(1 for _ in f2)\n",
    "            assert lines1 == lines2, f\"行数不匹配: {lines1} vs {lines2}\"\n",
    "\n",
    "        # 第二次遍历：逐行严格比较\n",
    "        with open(quad_path) as f1, open(quad_my_path) as f2:\n",
    "            line_num = 0\n",
    "\n",
    "            for line1, line2 in zip(f1, f2):\n",
    "                line_num += 1\n",
    "\n",
    "                if line1 != line2:  # 严格比较，包括所有空白字符\n",
    "                    print(f\"  第 {line_num} 行:\")\n",
    "                    print(f\"    {quad_path}: {repr(line1)}\")\n",
    "                    print(f\"    {quad_my_path}: {repr(line2)}\")"
   ]
  }
 ],
 "metadata": {
  "kernelspec": {
   "display_name": "base",
   "language": "python",
   "name": "python3"
  },
  "language_info": {
   "codemirror_mode": {
    "name": "ipython",
    "version": 3
   },
   "file_extension": ".py",
   "mimetype": "text/x-python",
   "name": "python",
   "nbconvert_exporter": "python",
   "pygments_lexer": "ipython3",
   "version": "3.12.9"
  }
 },
 "nbformat": 4,
 "nbformat_minor": 5
}
