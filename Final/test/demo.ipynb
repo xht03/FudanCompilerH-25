{
 "cells": [
  {
   "cell_type": "code",
   "execution_count": 3,
   "id": "abd7536f",
   "metadata": {},
   "outputs": [
    {
     "name": "stdout",
     "output_type": "stream",
     "text": [
      "hw3test01.4-ssa.quad\n",
      "hw3test04.4-ssa.quad\n"
     ]
    }
   ],
   "source": [
    "\n",
    "import os\n",
    "\n",
    "root_dir = \"./HW3\"\n",
    "for dirpath, _, filenames in os.walk(root_dir):\n",
    "    quad_files = [f for f in filenames if f.endswith(\".4-ssa.quad\")]\n",
    "\n",
    "    for quad_file in quad_files:\n",
    "        quad_my_file = quad_file.replace(\".4-ssa.quad\", \".4-ssa.quad.my\")\n",
    "        quad_path = os.path.join(dirpath, quad_file)\n",
    "        quad_my_path = os.path.join(dirpath, quad_my_file)\n",
    "\n",
    "        print(os.path.relpath(quad_path, root_dir))\n",
    "\n",
    "        # 第一次遍历：比较行数\n",
    "        with open(quad_path) as f1, open(quad_my_path) as f2:\n",
    "            lines1 = sum(1 for _ in f1)\n",
    "            lines2 = sum(1 for _ in f2)\n",
    "            assert lines1 == lines2, f\"行数不匹配: {lines1} vs {lines2}\"\n",
    "\n",
    "        # # 第二次遍历：逐行严格比较\n",
    "        # with open(quad_path) as f1, open(quad_my_path) as f2:\n",
    "        #     line_num = 0\n",
    "\n",
    "        #     for line1, line2 in zip(f1, f2):\n",
    "        #         line_num += 1\n",
    "\n",
    "        #         if line1 != line2:  # 严格比较，包括所有空白字符\n",
    "        #             line1_part = line1.split(\"use:\")\n",
    "        #             line2_part = line2.split(\"use:\")\n",
    "                    \n",
    "        #             if line1_part[0] == line2_part[0]:\n",
    "        #                 line1_use = line1_part[1].strip().split(\" \")\n",
    "        #                 line2_use = line2_part[1].strip().split(\" \")\n",
    "        #                 if set(line1_use) == set(line2_use):\n",
    "        #                     continue\n",
    "                    \n",
    "        #             print(f\"  第{line_num}行:\")\n",
    "        #             print(f\"  {quad_path}   : {repr(line1)}\")\n",
    "        #             print(f\"  {quad_my_path}: {repr(line2)}\")"
   ]
  }
 ],
 "metadata": {
  "kernelspec": {
   "display_name": "base",
   "language": "python",
   "name": "python3"
  },
  "language_info": {
   "codemirror_mode": {
    "name": "ipython",
    "version": 3
   },
   "file_extension": ".py",
   "mimetype": "text/x-python",
   "name": "python",
   "nbconvert_exporter": "python",
   "pygments_lexer": "ipython3",
   "version": "3.12.9"
  }
 },
 "nbformat": 4,
 "nbformat_minor": 5
}
