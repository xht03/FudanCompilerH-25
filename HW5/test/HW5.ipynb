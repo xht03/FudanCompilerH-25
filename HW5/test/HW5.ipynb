{
 "cells": [
  {
   "cell_type": "code",
   "execution_count": 2,
   "metadata": {},
   "outputs": [
    {
     "name": "stdout",
     "output_type": "stream",
     "text": [
      "test0\n",
      "test1\n",
      "test2\n",
      "test3\n",
      "test4\n",
      "test5\n",
      "test6\n",
      "test7\n",
      "test8\n",
      "test9\n"
     ]
    }
   ],
   "source": [
    "# 将当前文件夹中的文件(例如example.2.ast)和外文件夹中的对应文件(例如example.2.xml)进行比对\n",
    "# 直接打印比对结果\n",
    "\n",
    "import os\n",
    "import sys\n",
    "import re\n",
    "\n",
    "\n",
    "def read_file(filename):\n",
    "    with open(filename, \"r\", encoding=\"utf-8\") as f:\n",
    "        content = f.readlines()\n",
    "    return content\n",
    "\n",
    "\n",
    "for i in range(10):\n",
    "    print(f\"test{i}\")\n",
    "    ans = read_file(f\"test{i}.3.irp\")\n",
    "    my = read_file(f\"test{i}.3.irp.my\")\n",
    "\n",
    "    assert len(ans) == len(my), f\"Length mismatch for test{i}\"\n",
    "    for j in range(len(ans)):\n",
    "        ans_line = ans[j]\n",
    "        my_line = my[j]\n",
    "\n",
    "        if ans_line.strip().startswith(\"<FunctionDeclaration\"):\n",
    "            continue\n",
    "        \n",
    "        if ans_line.strip().startswith(\"<Memory\"):\n",
    "            continue\n",
    "\n",
    "        if \"temp=\" in ans_line:\n",
    "            continue\n",
    "\n",
    "        if \"label=\" in ans_line:\n",
    "            continue\n",
    "\n",
    "        if \"true=\" in ans_line:\n",
    "            continue\n",
    "\n",
    "        assert ans_line == my_line, f\"Mismatch at for test{i} line {j+1}: {ans_line} != {my_line}\""
   ]
  }
 ],
 "metadata": {
  "kernelspec": {
   "display_name": "base",
   "language": "python",
   "name": "python3"
  },
  "language_info": {
   "codemirror_mode": {
    "name": "ipython",
    "version": 3
   },
   "file_extension": ".py",
   "mimetype": "text/x-python",
   "name": "python",
   "nbconvert_exporter": "python",
   "pygments_lexer": "ipython3",
   "version": "3.12.9"
  }
 },
 "nbformat": 4,
 "nbformat_minor": 2
}
